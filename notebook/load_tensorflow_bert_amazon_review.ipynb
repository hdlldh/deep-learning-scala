{
 "cells": [
  {
   "cell_type": "markdown",
   "metadata": {},
   "source": [
    "# Rank Classification using Tensorflow BERT on Amazon Review\n",
    "\n",
    "\n",
    "<img src=\"https://djl-ai.s3.amazonaws.com/resources/images/amazon_review.png\" width=\"500\">\n",
    "<center>Amazon Review example</center>"
   ]
  },
  {
   "cell_type": "code",
   "execution_count": 1,
   "metadata": {},
   "outputs": [
    {
     "data": {
      "text/plain": [
       "\u001b[32mimport \u001b[39m\u001b[36m$ivy.$                  \n",
       "\u001b[39m\n",
       "\u001b[32mimport \u001b[39m\u001b[36m$ivy.$                                              \n",
       "\u001b[39m\n",
       "\u001b[32mimport \u001b[39m\u001b[36m$ivy.$                                           \n",
       "\u001b[39m\n",
       "\u001b[32mimport \u001b[39m\u001b[36m$ivy.$                           \n",
       "\u001b[39m\n",
       "\u001b[32mimport \u001b[39m\u001b[36m$ivy.$                              \u001b[39m"
      ]
     },
     "execution_count": 1,
     "metadata": {},
     "output_type": "execute_result"
    }
   ],
   "source": [
    "import $ivy.`ai.djl:api:0.17.0`\n",
    "import $ivy.`ai.djl.tensorflow:tensorflow-model-zoo:0.17.0`\n",
    "import $ivy.`ai.djl.tensorflow:tensorflow-engine:0.17.0`\n",
    "import $ivy.`org.slf4j:slf4j-api:1.7.36`\n",
    "import $ivy.`org.slf4j:slf4j-simple:1.7.36`"
   ]
  },
  {
   "cell_type": "markdown",
   "metadata": {},
   "source": [
    "### Import java packages"
   ]
  },
  {
   "cell_type": "code",
   "execution_count": 2,
   "metadata": {},
   "outputs": [
    {
     "data": {
      "text/plain": [
       "\u001b[32mimport \u001b[39m\u001b[36mjava.io.IOException\n",
       "\u001b[39m\n",
       "\u001b[32mimport \u001b[39m\u001b[36mjava.nio.file.{Files, Paths}\n",
       "\u001b[39m\n",
       "\u001b[32mimport \u001b[39m\u001b[36mjava.util\n",
       "\n",
       "\u001b[39m\n",
       "\u001b[32mimport \u001b[39m\u001b[36mai.djl.modality.Classifications\n",
       "\u001b[39m\n",
       "\u001b[32mimport \u001b[39m\u001b[36mai.djl.modality.nlp.DefaultVocabulary\n",
       "\u001b[39m\n",
       "\u001b[32mimport \u001b[39m\u001b[36mai.djl.modality.nlp.bert.BertFullTokenizer\n",
       "\u001b[39m\n",
       "\u001b[32mimport \u001b[39m\u001b[36mai.djl.modality.nlp.Vocabulary\n",
       "\u001b[39m\n",
       "\u001b[32mimport \u001b[39m\u001b[36mai.djl.ndarray.NDList\n",
       "\u001b[39m\n",
       "\u001b[32mimport \u001b[39m\u001b[36mai.djl.repository.zoo.Criteria\n",
       "\u001b[39m\n",
       "\u001b[32mimport \u001b[39m\u001b[36mai.djl.training.util.{DownloadUtils, ProgressBar}\n",
       "\u001b[39m\n",
       "\u001b[32mimport \u001b[39m\u001b[36mai.djl.translate.{Batchifier, Translator, TranslatorContext}\n",
       "\u001b[39m\n",
       "\u001b[32mimport \u001b[39m\u001b[36mai.djl.util.ZipUtils\u001b[39m"
      ]
     },
     "execution_count": 2,
     "metadata": {},
     "output_type": "execute_result"
    }
   ],
   "source": [
    "import java.io.IOException\n",
    "import java.nio.file.{Files, Paths}\n",
    "import java.util\n",
    "\n",
    "import ai.djl.modality.Classifications\n",
    "import ai.djl.modality.nlp.DefaultVocabulary\n",
    "import ai.djl.modality.nlp.bert.BertFullTokenizer\n",
    "import ai.djl.modality.nlp.Vocabulary\n",
    "import ai.djl.ndarray.NDList\n",
    "import ai.djl.repository.zoo.Criteria\n",
    "import ai.djl.training.util.{DownloadUtils, ProgressBar}\n",
    "import ai.djl.translate.{Batchifier, Translator, TranslatorContext}\n",
    "import ai.djl.util.ZipUtils"
   ]
  },
  {
   "cell_type": "markdown",
   "metadata": {},
   "source": [
    "## Prepare model files"
   ]
  },
  {
   "cell_type": "code",
   "execution_count": 3,
   "metadata": {},
   "outputs": [
    {
     "data": {
      "text/plain": [
       "\u001b[36mmodelDir\u001b[39m: \u001b[32mjava\u001b[39m.\u001b[32mnio\u001b[39m.\u001b[32mfile\u001b[39m.\u001b[32mPath\u001b[39m = ../build/tensorflow/bert-rank"
      ]
     },
     "execution_count": 3,
     "metadata": {},
     "output_type": "execute_result"
    }
   ],
   "source": [
    "val modelUrl = \"https://resources.djl.ai/demo/tensorflow/amazon_review_rank_classification.zip\"\n",
    "DownloadUtils.download(\n",
    "  modelUrl,\n",
    "  \"../build/tensorflow/amazon_review_rank_classification.zip\",\n",
    "  new ProgressBar\n",
    ")\n",
    "val zipFile = Paths.get(\"../build/tensorflow/amazon_review_rank_classification.zip\")\n",
    "\n",
    "val modelDir = Paths.get(\"../build/tensorflow/bert-rank\")\n",
    "if (Files.notExists(modelDir)) ZipUtils.unzip(Files.newInputStream(zipFile), modelDir)"
   ]
  },
  {
   "cell_type": "markdown",
   "metadata": {},
   "source": [
    "## Create Translator"
   ]
  },
  {
   "cell_type": "code",
   "execution_count": 4,
   "metadata": {},
   "outputs": [
    {
     "data": {
      "text/plain": [
       "defined \u001b[32mclass\u001b[39m \u001b[36mBertRankTranslator\u001b[39m"
      ]
     },
     "execution_count": 4,
     "metadata": {},
     "output_type": "execute_result"
    }
   ],
   "source": [
    "class BertRankTranslator(var tokenizer: BertFullTokenizer, var length: Int)\n",
    "    extends Translator[String, Classifications] {\n",
    "\n",
    "  private val vocab: Vocabulary = tokenizer.getVocabulary\n",
    "  private val ranks: util.List[String] = util.Arrays.asList(\"1\", \"2\", \"3\", \"4\", \"5\")\n",
    "\n",
    "  override def processInput(ctx: TranslatorContext, input: String): NDList = {\n",
    "    val tokens = this.tokenizer.tokenize(input)\n",
    "    val indices = new Array[Long](length)\n",
    "    val mask = new Array[Long](length)\n",
    "    val segmentIds = new Array[Long](length)\n",
    "    val size = math.min(length, tokens.size)\n",
    "    for (i <- 0 until size) {\n",
    "      indices(i + 1) = vocab.getIndex(tokens.get(i))\n",
    "    }\n",
    "    util.Arrays.fill(mask, 0, size, 1)\n",
    "    val m = ctx.getNDManager\n",
    "    new NDList(m.create(indices), m.create(mask), m.create(segmentIds))\n",
    "  }\n",
    "\n",
    "  override def processOutput(ctx: TranslatorContext, list: NDList) =\n",
    "    new Classifications(ranks, list.singletonOrThrow.softmax(0))\n",
    "        \n",
    "  override def getBatchifier: Batchifier = Batchifier.STACK\n",
    "}"
   ]
  },
  {
   "cell_type": "markdown",
   "metadata": {},
   "source": [
    "## Load tensorflow model"
   ]
  },
  {
   "cell_type": "code",
   "execution_count": 5,
   "metadata": {},
   "outputs": [
    {
     "name": "stdout",
     "output_type": "stream",
     "text": [
      "Loading:     100% |████████████████████████████████████████|\n"
     ]
    },
    {
     "data": {
      "text/plain": [
       "\u001b[36mmodelDir\u001b[39m: \u001b[32mjava\u001b[39m.\u001b[32mnio\u001b[39m.\u001b[32mfile\u001b[39m.\u001b[32mPath\u001b[39m = ../build/tensorflow/bert-rank\n",
       "\u001b[36mvocabFile\u001b[39m: \u001b[32mjava\u001b[39m.\u001b[32mnio\u001b[39m.\u001b[32mfile\u001b[39m.\u001b[32mPath\u001b[39m = ../build/tensorflow/bert-rank/vocab.txt\n",
       "\u001b[36mvocabulary\u001b[39m: \u001b[32mDefaultVocabulary\u001b[39m = ai.djl.modality.nlp.DefaultVocabulary@3d12756d\n",
       "\u001b[36mtokenizer\u001b[39m: \u001b[32mBertFullTokenizer\u001b[39m = ai.djl.modality.nlp.bert.BertFullTokenizer@5771529b\n",
       "\u001b[36mmaxTokenLength\u001b[39m: \u001b[32mInt\u001b[39m = \u001b[32m64\u001b[39m\n",
       "\u001b[36mtranslator\u001b[39m: \u001b[32mBertRankTranslator\u001b[39m = ammonite.$sess.cmd3$Helper$BertRankTranslator@6d31dea5\n",
       "\u001b[36mcriteria\u001b[39m: \u001b[32mCriteria\u001b[39m[\u001b[32mString\u001b[39m, \u001b[32mClassifications\u001b[39m] = Criteria:\n",
       "\tApplication: UNDEFINED\n",
       "\tInput: class java.lang.String\n",
       "\tOutput: class ai.djl.modality.Classifications\n",
       "\tModelZoo: ai.djl.localmodelzoo\n",
       "\n",
       "\u001b[36mmodel\u001b[39m: \u001b[32mai\u001b[39m.\u001b[32mdjl\u001b[39m.\u001b[32mrepository\u001b[39m.\u001b[32mzoo\u001b[39m.\u001b[32mZooModel\u001b[39m[\u001b[32mString\u001b[39m, \u001b[32mClassifications\u001b[39m] = ai.djl.repository.zoo.ZooModel@530a04bf\n",
       "\u001b[36mpredictor\u001b[39m: \u001b[32mai\u001b[39m.\u001b[32mdjl\u001b[39m.\u001b[32minference\u001b[39m.\u001b[32mPredictor\u001b[39m[\u001b[32mString\u001b[39m, \u001b[32mClassifications\u001b[39m] = ai.djl.inference.Predictor@3815f5af"
      ]
     },
     "execution_count": 5,
     "metadata": {},
     "output_type": "execute_result"
    }
   ],
   "source": [
    "val modelDir = Paths.get(\"../build/tensorflow/bert-rank\")\n",
    "val vocabFile = modelDir.resolve(\"vocab.txt\")\n",
    "val vocabulary = DefaultVocabulary.builder\n",
    "  .optMinFrequency(1)\n",
    "  .addFromTextFile(vocabFile)\n",
    "  .optUnknownToken(\"[UNK]\")\n",
    "  .build\n",
    "val tokenizer = new BertFullTokenizer(vocabulary, true)\n",
    "val maxTokenLength = 64 // cutoff tokens length\n",
    "\n",
    "val translator = new BertRankTranslator(tokenizer, maxTokenLength)\n",
    "\n",
    "val criteria = Criteria.builder\n",
    "  .setTypes(classOf[String], classOf[Classifications])\n",
    "  .optModelPath(modelDir)\n",
    "  .optTranslator(translator)\n",
    "  .optProgress(new ProgressBar)\n",
    "  .build\n",
    "\n",
    "val model = criteria.loadModel\n",
    "\n",
    "val predictor = model.newPredictor"
   ]
  },
  {
   "cell_type": "code",
   "execution_count": 6,
   "metadata": {},
   "outputs": [
    {
     "data": {
      "text/plain": [
       "\u001b[36mreview\u001b[39m: \u001b[32mString\u001b[39m = \u001b[32m\"It works great, but it takes too long to update itself and slows the system\"\u001b[39m\n",
       "\u001b[36mres5_1\u001b[39m: \u001b[32mClassifications\u001b[39m = [\n",
       "\tclass: \"4\", probability: 0.21119\n",
       "\tclass: \"2\", probability: 0.20799\n",
       "\tclass: \"5\", probability: 0.19935\n",
       "\tclass: \"3\", probability: 0.19762\n",
       "\tclass: \"1\", probability: 0.18384\n",
       "]"
      ]
     },
     "execution_count": 6,
     "metadata": {},
     "output_type": "execute_result"
    }
   ],
   "source": [
    "val review = \"It works great, but it takes too long to update itself and slows the system\"\n",
    "predictor.predict(review)"
   ]
  },
  {
   "cell_type": "code",
   "execution_count": 7,
   "metadata": {},
   "outputs": [],
   "source": [
    "predictor.close()"
   ]
  }
 ],
 "metadata": {
  "kernelspec": {
   "display_name": "Scala (2.12)",
   "language": "scala",
   "name": "scala212"
  },
  "language_info": {
   "codemirror_mode": "text/x-scala",
   "file_extension": ".sc",
   "mimetype": "text/x-scala",
   "name": "scala",
   "nbconvert_exporter": "script",
   "version": "2.12.12"
  }
 },
 "nbformat": 4,
 "nbformat_minor": 4
}
